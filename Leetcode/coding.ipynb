{
 "cells": [
  {
   "cell_type": "markdown",
   "metadata": {},
   "source": [
    "# 算法题 python实现 深入理解"
   ]
  },
  {
   "cell_type": "markdown",
   "metadata": {},
   "source": [
    "## 704.二分查找\n",
    "\n",
    "给定一个 n 个元素有序的（升序）整型数组 nums 和一个目标值 target  ，写一个函数搜索 nums 中的 target，如果目标值存在返回下标，否则返回 -1\n",
    "\n",
    "Case1：\n",
    "```\n",
    "输入: nums = [-1,0,3,5,9,12], target = 9     \n",
    "输出: 4       \n",
    "解释: 9 出现在 nums 中并且下标为 4  \n",
    "```\n",
    "\n",
    "Case2:\n",
    "```\n",
    "输入: nums = [-1,0,3,5,9,12], target = 2     \n",
    "输出: -1        \n",
    "解释: 2 不存在 nums 中因此返回 -1 \n",
    "```\n",
    "\n",
    "\n",
    "提示：\n",
    "\n",
    "- 你可以假设 nums 中的所有元素是不重复的。\n",
    "- n 将在 [1, 10000]之间。\n",
    "- nums 的每个元素都将在 [-9999, 9999]之间。\n",
    "\n",
    "**解**\n",
    "1. 用enumerate似乎太偷懒了\n",
    "2. 就用正常的二分法\n",
    "3. 边界处需要注意开闭区间"
   ]
  },
  {
   "cell_type": "code",
   "execution_count": 24,
   "metadata": {},
   "outputs": [],
   "source": [
    "def search(nums: list[int], target: int) -> int:\n",
    "    \"\"\"二分法 默认左右闭区间\"\"\"\n",
    "    left = 0\n",
    "    right = len(nums) - 1\n",
    "    while left <= right:\n",
    "        middle = left + (right - left) // 2\n",
    "\n",
    "        if nums[middle] > target: # 左区间\n",
    "            right = middle - 1\n",
    "        elif nums[middle] < target: # 右区间\n",
    "            left = middle + 1\n",
    "        else:\n",
    "            return middle\n",
    "    return -1"
   ]
  },
  {
   "cell_type": "code",
   "execution_count": 25,
   "metadata": {},
   "outputs": [
    {
     "data": {
      "text/plain": [
       "4"
      ]
     },
     "execution_count": 25,
     "metadata": {},
     "output_type": "execute_result"
    }
   ],
   "source": [
    "result = search(\n",
    "    nums = [-1,0,3,5,9,12],\n",
    "    target=9\n",
    ")\n",
    "result"
   ]
  },
  {
   "cell_type": "code",
   "execution_count": 28,
   "metadata": {},
   "outputs": [
    {
     "data": {
      "text/plain": [
       "4"
      ]
     },
     "execution_count": 28,
     "metadata": {},
     "output_type": "execute_result"
    }
   ],
   "source": [
    "\"\"\"\n",
    "更偷懒的方法\n",
    "\"\"\"\n",
    "nums = [-1,0,3,5,9,12]\n",
    "target=9\n",
    "nums.index(target)"
   ]
  },
  {
   "cell_type": "markdown",
   "metadata": {},
   "source": []
  }
 ],
 "metadata": {
  "kernelspec": {
   "display_name": "torch",
   "language": "python",
   "name": "python3"
  },
  "language_info": {
   "codemirror_mode": {
    "name": "ipython",
    "version": 3
   },
   "file_extension": ".py",
   "mimetype": "text/x-python",
   "name": "python",
   "nbconvert_exporter": "python",
   "pygments_lexer": "ipython3",
   "version": "3.10.13"
  }
 },
 "nbformat": 4,
 "nbformat_minor": 2
}
