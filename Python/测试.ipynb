{
 "cells": [
  {
   "cell_type": "markdown",
   "id": "703009fa",
   "metadata": {},
   "source": [
    "# python3.13特定测试"
   ]
  },
  {
   "cell_type": "markdown",
   "id": "5cf47b23",
   "metadata": {},
   "source": [
    "## 1. JIT测试"
   ]
  },
  {
   "cell_type": "code",
   "execution_count": 3,
   "id": "d0952e08",
   "metadata": {},
   "outputs": [],
   "source": [
    "import sys"
   ]
  },
  {
   "cell_type": "code",
   "execution_count": 4,
   "id": "ef10bede",
   "metadata": {},
   "outputs": [
    {
     "ename": "AttributeError",
     "evalue": "module 'sys' has no attribute 'jit_status'",
     "output_type": "error",
     "traceback": [
      "\u001b[31m---------------------------------------------------------------------------\u001b[39m",
      "\u001b[31mAttributeError\u001b[39m                            Traceback (most recent call last)",
      "\u001b[36mCell\u001b[39m\u001b[36m \u001b[39m\u001b[32mIn[4]\u001b[39m\u001b[32m, line 1\u001b[39m\n\u001b[32m----> \u001b[39m\u001b[32m1\u001b[39m \u001b[43msys\u001b[49m\u001b[43m.\u001b[49m\u001b[43mjit_status\u001b[49m()\n",
      "\u001b[31mAttributeError\u001b[39m: module 'sys' has no attribute 'jit_status'"
     ]
    }
   ],
   "source": [
    "sys.jit_status()"
   ]
  },
  {
   "cell_type": "code",
   "execution_count": 2,
   "id": "2b7025ee",
   "metadata": {},
   "outputs": [
    {
     "name": "stdout",
     "output_type": "stream",
     "text": [
      "CPython\n"
     ]
    }
   ],
   "source": [
    "import platform\n",
    "print(platform.python_implementation()) "
   ]
  },
  {
   "cell_type": "code",
   "execution_count": null,
   "id": "aef83f56",
   "metadata": {},
   "outputs": [
    {
     "ename": "SyntaxError",
     "evalue": "invalid non-printable character U+00A0 (1008790902.py, line 1)",
     "output_type": "error",
     "traceback": [
      "  \u001b[36mCell\u001b[39m\u001b[36m \u001b[39m\u001b[32mIn[1]\u001b[39m\u001b[32m, line 1\u001b[39m\n\u001b[31m    \u001b[39m\u001b[31mimport sys\u001b[39m\n          ^\n\u001b[31mSyntaxError\u001b[39m\u001b[31m:\u001b[39m invalid non-printable character U+00A0\n"
     ]
    }
   ],
   "source": [
    "import sys\n",
    "print(f\"JIT enabled: {sys._jit_enabled}\")\n",
    "print(f\"JIT compiler: {sys._jit_compiler}\")"
   ]
  },
  {
   "cell_type": "code",
   "execution_count": 5,
   "id": "55b225e5",
   "metadata": {},
   "outputs": [],
   "source": [
    "def calculate_pi(n_terms):\n",
    "    nemerator = 4.0\n",
    "    denominator = 1.0\n",
    "    operation = 1.0\n",
    "    pi = 0.0\n",
    "    \n",
    "    for _ in range(n_terms):\n",
    "        pi += operation * (nemerator / denominator)\n",
    "        denominator += 2.0\n",
    "        operation *= -1.0\n",
    "        \n",
    "    return pi"
   ]
  },
  {
   "cell_type": "code",
   "execution_count": null,
   "id": "c9e1ae0a",
   "metadata": {},
   "outputs": [],
   "source": [
    "import time"
   ]
  },
  {
   "cell_type": "code",
   "execution_count": 7,
   "id": "39c9817e",
   "metadata": {},
   "outputs": [
    {
     "name": "stdout",
     "output_type": "stream",
     "text": [
      "Pi: 3.1415916535897743, Time: 0.0326s\n"
     ]
    }
   ],
   "source": [
    "start_time = time.time()\n",
    "result = calculate_pi(1000000)\n",
    "end_time = time.time()\n",
    "print(f\"Pi: {result}, Time: {end_time - start_time:.4f}s\")\n"
   ]
  },
  {
   "cell_type": "code",
   "execution_count": 8,
   "id": "1e458c86",
   "metadata": {},
   "outputs": [
    {
     "name": "stderr",
     "output_type": "stream",
     "text": [
      "UsageError: Line magic function `%export` not found.\n"
     ]
    }
   ],
   "source": [
    "%export PYTHON_JIT=1"
   ]
  },
  {
   "cell_type": "markdown",
   "id": "d6c6c2fa",
   "metadata": {},
   "source": []
  }
 ],
 "metadata": {
  "kernelspec": {
   "display_name": "jit",
   "language": "python",
   "name": "python3"
  },
  "language_info": {
   "codemirror_mode": {
    "name": "ipython",
    "version": 3
   },
   "file_extension": ".py",
   "mimetype": "text/x-python",
   "name": "python",
   "nbconvert_exporter": "python",
   "pygments_lexer": "ipython3",
   "version": "3.13.7"
  }
 },
 "nbformat": 4,
 "nbformat_minor": 5
}
