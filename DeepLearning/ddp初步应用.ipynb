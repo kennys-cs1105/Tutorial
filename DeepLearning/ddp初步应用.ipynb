{
 "cells": [
  {
   "cell_type": "code",
   "execution_count": 1,
   "metadata": {},
   "outputs": [],
   "source": [
    "import os\n",
    "import torch\n",
    "import torch.nn.functional as F\n",
    "from torch.utils.data import Dataset, DataLoader"
   ]
  },
  {
   "cell_type": "code",
   "execution_count": 2,
   "metadata": {},
   "outputs": [],
   "source": [
    "import torch.multiprocessing as ma\n",
    "from torch.utils.data.distributed import DistributedSampler\n",
    "from torch.nn.parallel import DistributedDataParallel as DDP\n",
    "from torch.distributed import init_process_group, destroy_process_group"
   ]
  },
  {
   "cell_type": "markdown",
   "metadata": {},
   "source": [
    "# 1. Basics\n",
    "\n",
    "- All to one: reduce, one to All: boardcast\n",
    "- rank: [0, world_size-1]"
   ]
  },
  {
   "cell_type": "markdown",
   "metadata": {},
   "source": [
    "# 2. DDP setup"
   ]
  },
  {
   "cell_type": "code",
   "execution_count": 3,
   "metadata": {},
   "outputs": [
    {
     "data": {
      "text/plain": [
       "1"
      ]
     },
     "execution_count": 3,
     "metadata": {},
     "output_type": "execute_result"
    }
   ],
   "source": [
    "world_size = torch.cuda.device_count()\n",
    "world_size"
   ]
  },
  {
   "cell_type": "code",
   "execution_count": 4,
   "metadata": {},
   "outputs": [],
   "source": [
    "def ddp_setup(rank, world_size):\n",
    "    \n",
    "    os.environ[\"MASTER_ADDR\"] = \"localhost\"\n",
    "    os.environ[\"MASTER_PORT\"] = \"12355\"\n",
    "\n",
    "    \"\"\"\n",
    "    nccl: NVIDIA Collective Communication Library\n",
    "    \"\"\"\n",
    "    init_process_group(backend=\"nccl\", rank=rank, world_size=world_size)\n",
    "    torch.cuda.set_device(rank)"
   ]
  },
  {
   "cell_type": "markdown",
   "metadata": {},
   "source": [
    "# 3. Custom Trainer"
   ]
  },
  {
   "cell_type": "code",
   "execution_count": 5,
   "metadata": {},
   "outputs": [],
   "source": [
    "class Trainer:\n",
    "\n",
    "    def __init__(self,\n",
    "                 model: torch.nn.Module,\n",
    "                 train_dataloader: DataLoader,\n",
    "                 optimizer: torch.optim.Optimizer,\n",
    "                 gpu_id: int) -> None:\n",
    "        \n",
    "        self.gpu_id = gpu_id\n",
    "        self.model = model.to(gpu_id)\n",
    "        self.train_dataloader = train_dataloader\n",
    "        self.optimizer = optimizer\n",
    "        self.model = DDP(model, device_ids=[gpu_id])\n",
    "\n",
    "    def _run_batch(self, xs, ys):\n",
    "        self.optimizer.zero_grad()\n",
    "        output = self.model(xs)\n",
    "        loss = F.cross_entropy(output, ys)\n",
    "        loss.backward()\n",
    "        self.optimizer.step()\n",
    "\n",
    "    def _run_epoch(self, epoch):\n",
    "        batch_size = len(next(iter(self.train_dataloader))[0])\n",
    "        \n",
    "        print(f\"GPU: {self.gpu_id}\")\n",
    "        print(f\"Epoch: {epoch}\")\n",
    "        print(f\"Batchsize: {batch_size}\")\n",
    "        print(f\"Step: {len(self.train_dataloader)}\")\n",
    "\n",
    "        self.train_dataloader.sampler.set_epoch(epoch)\n",
    "\n",
    "    def train(self, max_epoch: int):\n",
    "        for epoch in range(max_epoch):\n",
    "            self._run_epoch(epoch)"
   ]
  },
  {
   "cell_type": "markdown",
   "metadata": {},
   "source": [
    "# 4. Pipeline"
   ]
  },
  {
   "cell_type": "code",
   "execution_count": 6,
   "metadata": {},
   "outputs": [],
   "source": [
    "class MyTrainDataset(Dataset):\n",
    "    \n",
    "    def __init__(self, size):\n",
    "        self.size = size\n",
    "        self.data = [(torch.rand(20), torch.rand(1)) for _ in range(size)]\n",
    "\n",
    "    def __len__(self):\n",
    "        return self.size\n",
    "    \n",
    "    def __getitem__(self, index):\n",
    "        return self.data[index]"
   ]
  },
  {
   "cell_type": "code",
   "execution_count": 7,
   "metadata": {},
   "outputs": [],
   "source": [
    "train_dataset = MyTrainDataset(2048)"
   ]
  },
  {
   "cell_type": "code",
   "execution_count": 8,
   "metadata": {},
   "outputs": [
    {
     "data": {
      "text/plain": [
       "(tensor([0.7611, 0.3523, 0.7436, 0.6182, 0.3252, 0.4338, 0.6137, 0.3898, 0.6130,\n",
       "         0.6168, 0.8746, 0.4442, 0.3539, 0.3470, 0.6931, 0.1793, 0.8233, 0.9674,\n",
       "         0.3574, 0.3794]),\n",
       " tensor([0.1624]))"
      ]
     },
     "execution_count": 8,
     "metadata": {},
     "output_type": "execute_result"
    }
   ],
   "source": [
    "train_dataset[0]"
   ]
  },
  {
   "cell_type": "code",
   "execution_count": 9,
   "metadata": {},
   "outputs": [],
   "source": [
    "def main(rank: int, world_size: int, max_epochs: int, batch_size: int):\n",
    "\n",
    "    ddp_setup(rank, world_size)\n",
    "    train_dataset = MyTrainDataset(2048)\n",
    "    train_dataloader = DataLoader(train_dataset,\n",
    "                                  batch_size=batch_size,\n",
    "                                  pin_memory=True,\n",
    "                                  shuffle=False,\n",
    "                                  sampler=DistributedSampler(train_dataset))\n",
    "    model = torch.nn.Linear(20, 1)\n",
    "    optimizer = torch.optim.SGD(model.parameters(), lr=1e-3)\n",
    "\n",
    "    trainer = Trainer(\n",
    "        model=model,\n",
    "        gpu_id=rank,\n",
    "        optimizer=optimizer,\n",
    "        train_dataloader=train_dataloader\n",
    "    )\n",
    "\n",
    "    trainer.train(max_epochs)\n",
    "\n",
    "    destroy_process_group()"
   ]
  },
  {
   "cell_type": "markdown",
   "metadata": {},
   "source": [
    "# 5. 分布式training\n",
    "\n",
    "数据量：2048， batch_size:32 -> 每个批次64\n",
    "\n",
    "如果有2个gpu，单个gpu上分配了64/2==32\n",
    "\n",
    "`（32*32）* 2 = 2048`"
   ]
  },
  {
   "cell_type": "code",
   "execution_count": 10,
   "metadata": {},
   "outputs": [
    {
     "data": {
      "text/plain": [
       "1"
      ]
     },
     "execution_count": 10,
     "metadata": {},
     "output_type": "execute_result"
    }
   ],
   "source": [
    "world_size = torch.cuda.device_count()\n",
    "world_size"
   ]
  },
  {
   "cell_type": "code",
   "execution_count": null,
   "metadata": {},
   "outputs": [],
   "source": [
    "!python ddp_gpus.py --max_epochs 5 --batch_size 32"
   ]
  }
 ],
 "metadata": {
  "kernelspec": {
   "display_name": "pytorch",
   "language": "python",
   "name": "python3"
  },
  "language_info": {
   "codemirror_mode": {
    "name": "ipython",
    "version": 3
   },
   "file_extension": ".py",
   "mimetype": "text/x-python",
   "name": "python",
   "nbconvert_exporter": "python",
   "pygments_lexer": "ipython3",
   "version": "3.9.18"
  }
 },
 "nbformat": 4,
 "nbformat_minor": 2
}
